{
 "cells": [
  {
   "cell_type": "code",
   "execution_count": 339,
   "id": "24771cc1",
   "metadata": {},
   "outputs": [],
   "source": [
    "import numpy as np\n",
    "import pandas as pd\n",
    "from pandas import Series, DataFrame"
   ]
  },
  {
   "cell_type": "code",
   "execution_count": 340,
   "id": "97872e14",
   "metadata": {},
   "outputs": [],
   "source": [
    "#Test dataset\n",
    "df = DataFrame()\n",
    "#first or third year courses\n",
    "df['year'] = ['F', 'T', 'F', 'T', 'F', 'T', 'F', 'T', 'F', 'T']\n",
    "df['enrol'] = [200, 100, 210, 105, 220, 120, 230, 90, 223, 102]\n",
    "df['gpa'] = [2.9, 3.2, 3.0, 3.19, 3.05, 3.3, 28, 3.5, 3.1, 3.03]\n",
    "df;"
   ]
  },
  {
   "cell_type": "code",
   "execution_count": 341,
   "id": "6c3d75b9",
   "metadata": {},
   "outputs": [
    {
     "data": {
      "text/plain": [
       "(   enrol    gpa\n",
       " 0    200   2.90\n",
       " 1    100   3.20\n",
       " 2    210   3.00\n",
       " 3    105   3.19\n",
       " 4    220   3.05\n",
       " 5    120   3.30\n",
       " 6    230  28.00\n",
       " 7     90   3.50\n",
       " 8    223   3.10\n",
       " 9    102   3.03,\n",
       " 0    F\n",
       " 1    T\n",
       " 2    F\n",
       " 3    T\n",
       " 4    F\n",
       " 5    T\n",
       " 6    F\n",
       " 7    T\n",
       " 8    F\n",
       " 9    T\n",
       " Name: year, dtype: object)"
      ]
     },
     "execution_count": 341,
     "metadata": {},
     "output_type": "execute_result"
    }
   ],
   "source": [
    "dfx = df.drop (columns =['year'])\n",
    "sy = df.year\n",
    "dfx, sy"
   ]
  },
  {
   "cell_type": "code",
   "execution_count": 342,
   "id": "8ed7a860",
   "metadata": {},
   "outputs": [],
   "source": [
    "from sklearn.model_selection import train_test_split\n",
    "dfx_train, dfx_test, sy_train, sy_test = train_test_split(dfx,sy)\n",
    "dfx_train, dfx_test, sy_train, sy_test;"
   ]
  },
  {
   "cell_type": "code",
   "execution_count": 343,
   "id": "00ca5689",
   "metadata": {},
   "outputs": [
    {
     "data": {
      "text/plain": [
       "LabelEncoder()"
      ]
     },
     "execution_count": 343,
     "metadata": {},
     "output_type": "execute_result"
    }
   ],
   "source": [
    "from sklearn import preprocessing\n",
    "le = preprocessing.LabelEncoder()\n",
    "le"
   ]
  },
  {
   "cell_type": "code",
   "execution_count": 344,
   "id": "c93c9040",
   "metadata": {},
   "outputs": [
    {
     "data": {
      "text/plain": [
       "array(['F', 'T'], dtype=object)"
      ]
     },
     "execution_count": 344,
     "metadata": {},
     "output_type": "execute_result"
    }
   ],
   "source": [
    "le = le.fit(sy_train)\n",
    "le.classes_"
   ]
  },
  {
   "cell_type": "code",
   "execution_count": 345,
   "id": "d464c358",
   "metadata": {},
   "outputs": [
    {
     "data": {
      "text/plain": [
       "(7    T\n",
       " 6    F\n",
       " 1    T\n",
       " 0    F\n",
       " 4    F\n",
       " 2    F\n",
       " 3    T\n",
       " Name: year, dtype: object,\n",
       " array([1, 0, 1, 0, 0, 0, 1]))"
      ]
     },
     "execution_count": 345,
     "metadata": {},
     "output_type": "execute_result"
    }
   ],
   "source": [
    "y_train = le.transform(sy_train)\n",
    "sy_train, y_train"
   ]
  },
  {
   "cell_type": "code",
   "execution_count": 346,
   "id": "55e2461c",
   "metadata": {},
   "outputs": [
    {
     "data": {
      "text/plain": [
       "array([[ 90.  ,   3.5 ],\n",
       "       [230.  ,  28.  ],\n",
       "       [100.  ,   3.2 ],\n",
       "       [200.  ,   2.9 ],\n",
       "       [220.  ,   3.05],\n",
       "       [210.  ,   3.  ],\n",
       "       [105.  ,   3.19]])"
      ]
     },
     "execution_count": 346,
     "metadata": {},
     "output_type": "execute_result"
    }
   ],
   "source": [
    "dfx_train.to_numpy()"
   ]
  },
  {
   "cell_type": "code",
   "execution_count": 347,
   "id": "54654a84",
   "metadata": {},
   "outputs": [
    {
     "data": {
      "text/plain": [
       "array([[0.        , 0.02390438],\n",
       "       [1.        , 1.        ],\n",
       "       [0.07142857, 0.01195219],\n",
       "       [0.78571429, 0.        ],\n",
       "       [0.92857143, 0.0059761 ],\n",
       "       [0.85714286, 0.00398406],\n",
       "       [0.10714286, 0.01155378]])"
      ]
     },
     "execution_count": 347,
     "metadata": {},
     "output_type": "execute_result"
    }
   ],
   "source": [
    "nl = preprocessing.MinMaxScaler()\n",
    "nl = nl.fit(dfx_train.to_numpy())\n",
    "x_train = nl.transform (dfx_train.to_numpy())\n",
    "x_train"
   ]
  },
  {
   "cell_type": "code",
   "execution_count": 348,
   "id": "9371eb75",
   "metadata": {},
   "outputs": [
    {
     "data": {
      "text/plain": [
       "(7, 2)"
      ]
     },
     "execution_count": 348,
     "metadata": {},
     "output_type": "execute_result"
    }
   ],
   "source": [
    "x_train.shape"
   ]
  },
  {
   "cell_type": "code",
   "execution_count": 349,
   "id": "1662974c",
   "metadata": {},
   "outputs": [
    {
     "data": {
      "text/plain": [
       "KNeighborsClassifier(n_neighbors=1)"
      ]
     },
     "execution_count": 349,
     "metadata": {},
     "output_type": "execute_result"
    }
   ],
   "source": [
    "from sklearn.neighbors import KNeighborsClassifier\n",
    "knn = KNeighborsClassifier(n_neighbors = 1)\n",
    "#since my test dataset is small i only used 1 neighbour\n",
    "#however, for a larger dataset, more neighbors would be better for higher precision, maybe like 10 or so\n",
    "knn = knn.fit(x_train,y_train)\n",
    "knn"
   ]
  },
  {
   "cell_type": "code",
   "execution_count": 350,
   "id": "3d99f220",
   "metadata": {},
   "outputs": [
    {
     "data": {
      "text/plain": [
       "(8    F\n",
       " 5    T\n",
       " 9    T\n",
       " Name: year, dtype: object,\n",
       " array([0, 1, 1]))"
      ]
     },
     "execution_count": 350,
     "metadata": {},
     "output_type": "execute_result"
    }
   ],
   "source": [
    "y_test = le.transform(sy_test.to_numpy())\n",
    "sy_test, y_test"
   ]
  },
  {
   "cell_type": "code",
   "execution_count": 351,
   "id": "3c806b59",
   "metadata": {},
   "outputs": [
    {
     "data": {
      "text/plain": [
       "(   enrol   gpa\n",
       " 8    223  3.10\n",
       " 5    120  3.30\n",
       " 9    102  3.03,\n",
       " array([[0.95      , 0.00796813],\n",
       "        [0.21428571, 0.01593625],\n",
       "        [0.08571429, 0.00517928]]))"
      ]
     },
     "execution_count": 351,
     "metadata": {},
     "output_type": "execute_result"
    }
   ],
   "source": [
    "x_test = nl.transform(dfx_test.to_numpy())\n",
    "dfx_test, x_test"
   ]
  },
  {
   "cell_type": "code",
   "execution_count": 352,
   "id": "232f1b3b",
   "metadata": {},
   "outputs": [
    {
     "data": {
      "text/plain": [
       "array([0, 1, 1])"
      ]
     },
     "execution_count": 352,
     "metadata": {},
     "output_type": "execute_result"
    }
   ],
   "source": [
    "knn.predict(x_test)"
   ]
  },
  {
   "cell_type": "code",
   "execution_count": 353,
   "id": "13f39693",
   "metadata": {},
   "outputs": [
    {
     "data": {
      "text/plain": [
       "array([0, 1, 1])"
      ]
     },
     "execution_count": 353,
     "metadata": {},
     "output_type": "execute_result"
    }
   ],
   "source": [
    "y_test"
   ]
  },
  {
   "cell_type": "code",
   "execution_count": 354,
   "id": "fd99a822",
   "metadata": {},
   "outputs": [
    {
     "data": {
      "text/plain": [
       "1.0"
      ]
     },
     "execution_count": 354,
     "metadata": {},
     "output_type": "execute_result"
    }
   ],
   "source": [
    "knn.score(x_test, y_test)"
   ]
  },
  {
   "cell_type": "code",
   "execution_count": 355,
   "id": "7065f30f",
   "metadata": {},
   "outputs": [
    {
     "data": {
      "text/plain": [
       "1.0"
      ]
     },
     "execution_count": 355,
     "metadata": {},
     "output_type": "execute_result"
    }
   ],
   "source": [
    "knn.score(x_train, y_train)"
   ]
  },
  {
   "cell_type": "code",
   "execution_count": 356,
   "id": "09eaccda",
   "metadata": {},
   "outputs": [
    {
     "data": {
      "image/png": "[encoded data removed]",
      "text/plain": [
       "<Figure size 432x288 with 1 Axes>"
      ]
     },
     "metadata": {
      "needs_background": "light"
     },
     "output_type": "display_data"
    }
   ],
   "source": [
    "import matplotlib.pyplot as plt\n",
    "fig, ax = plt.subplots()\n",
    "\n",
    "import numpy as np\n",
    "\n",
    "k_values = np.array([1, 2, 3, 4, 5, 6, 7])\n",
    "test_acc = np.array([0.66, 0.66, 0.66, 0.66, 0.0, 0.0, 0.0])\n",
    "train_acc = np.array([1.0, 1.0, 1.0, 1.0, 0.71, 0.71, 0.71])\n",
    "\n",
    "#these above values were found by:\n",
    "#1) run program at n_neighbor = 1\n",
    "#2) record knn score (model accuracy) for test and train sets\n",
    "#3) edit / increment n_neighbor value by 1 until like 10 or so\n",
    "#4) repeat steps 1-3\n",
    "\n",
    "ax.scatter(k_values, test_acc, c = 'r', label = 'Test')\n",
    "ax.scatter(k_values, train_acc, c = 'b', label = 'Train')\n",
    "\n",
    "plt.xlabel('K Values')\n",
    "plt.ylabel('Model Accuracy')\n",
    "plt.legend()\n",
    "plt.show()"
   ]
  },
  {
   "cell_type": "code",
   "execution_count": 357,
   "id": "d8519ba6",
   "metadata": {},
   "outputs": [
    {
     "data": {
      "text/plain": [
       "(   enrol    gpa\n",
       " 7     90   3.50\n",
       " 6    230  28.00\n",
       " 1    100   3.20\n",
       " 0    200   2.90\n",
       " 4    220   3.05\n",
       " 2    210   3.00\n",
       " 3    105   3.19,\n",
       " array([[-1.28220517, -0.36678861],\n",
       "        [ 1.11124448,  2.44897895],\n",
       "        [-1.11124448, -0.4012674 ],\n",
       "        [ 0.59836241, -0.43574619],\n",
       "        [ 0.94028379, -0.41850679],\n",
       "        [ 0.7693231 , -0.42425326],\n",
       "        [-1.02576414, -0.40241669]]))"
      ]
     },
     "execution_count": 357,
     "metadata": {},
     "output_type": "execute_result"
    }
   ],
   "source": [
    "from sklearn import preprocessing\n",
    "le = preprocessing.LabelEncoder()\n",
    "le = le.fit(sy_train)\n",
    "y_train = le.transform(sy_train)\n",
    "stand = preprocessing.StandardScaler()\n",
    "standfitted = stand.fit(dfx_train.to_numpy())\n",
    "x_train = standfitted.transform(dfx_train.to_numpy())\n",
    "dfx_train, x_train"
   ]
  },
  {
   "cell_type": "code",
   "execution_count": 358,
   "id": "16922258",
   "metadata": {},
   "outputs": [
    {
     "data": {
      "text/plain": [
       "(7, 2)"
      ]
     },
     "execution_count": 358,
     "metadata": {},
     "output_type": "execute_result"
    }
   ],
   "source": [
    "x_train.shape"
   ]
  },
  {
   "cell_type": "code",
   "execution_count": 359,
   "id": "80b64e56",
   "metadata": {},
   "outputs": [
    {
     "data": {
      "text/plain": [
       "KNeighborsClassifier(n_neighbors=7)"
      ]
     },
     "execution_count": 359,
     "metadata": {},
     "output_type": "execute_result"
    }
   ],
   "source": [
    "from sklearn.neighbors import KNeighborsClassifier\n",
    "knn = KNeighborsClassifier(n_neighbors = 7)\n",
    "knn = knn.fit(x_train,y_train)\n",
    "knn"
   ]
  },
  {
   "cell_type": "code",
   "execution_count": 360,
   "id": "fe93d247",
   "metadata": {},
   "outputs": [
    {
     "data": {
      "text/plain": [
       "(8    F\n",
       " 5    T\n",
       " 9    T\n",
       " Name: year, dtype: object,\n",
       " array([0, 1, 1]))"
      ]
     },
     "execution_count": 360,
     "metadata": {},
     "output_type": "execute_result"
    }
   ],
   "source": [
    "y_test = le.transform(sy_test.to_numpy())\n",
    "sy_test, y_test"
   ]
  },
  {
   "cell_type": "code",
   "execution_count": 361,
   "id": "eb4e10f9",
   "metadata": {},
   "outputs": [
    {
     "data": {
      "text/plain": [
       "(   enrol   gpa\n",
       " 8    223  3.10\n",
       " 5    120  3.30\n",
       " 9    102  3.03,\n",
       " array([[ 0.991572  , -0.41276033],\n",
       "        [-0.7693231 , -0.38977447],\n",
       "        [-1.07705234, -0.42080538]]))"
      ]
     },
     "execution_count": 361,
     "metadata": {},
     "output_type": "execute_result"
    }
   ],
   "source": [
    "x_test = standfitted.transform(dfx_test.to_numpy())\n",
    "dfx_test, x_test"
   ]
  },
  {
   "cell_type": "code",
   "execution_count": 362,
   "id": "9e2b86c6",
   "metadata": {},
   "outputs": [
    {
     "data": {
      "text/plain": [
       "array([0, 0, 0])"
      ]
     },
     "execution_count": 362,
     "metadata": {},
     "output_type": "execute_result"
    }
   ],
   "source": [
    "knn.predict(x_test)"
   ]
  },
  {
   "cell_type": "code",
   "execution_count": 363,
   "id": "585211e4",
   "metadata": {},
   "outputs": [
    {
     "data": {
      "text/plain": [
       "array([0, 1, 1])"
      ]
     },
     "execution_count": 363,
     "metadata": {},
     "output_type": "execute_result"
    }
   ],
   "source": [
    "y_test"
   ]
  },
  {
   "cell_type": "code",
   "execution_count": 364,
   "id": "24199afe",
   "metadata": {},
   "outputs": [
    {
     "data": {
      "text/plain": [
       "0.3333333333333333"
      ]
     },
     "execution_count": 364,
     "metadata": {},
     "output_type": "execute_result"
    }
   ],
   "source": [
    "knn.score(x_test, y_test)"
   ]
  },
  {
   "cell_type": "code",
   "execution_count": 365,
   "id": "74dbdb7e",
   "metadata": {},
   "outputs": [
    {
     "data": {
      "text/plain": [
       "0.5714285714285714"
      ]
     },
     "execution_count": 365,
     "metadata": {},
     "output_type": "execute_result"
    }
   ],
   "source": [
    "knn.score(x_train, y_train)"
   ]
  },
  {
   "cell_type": "code",
   "execution_count": 366,
   "id": "a7ed390e",
   "metadata": {
    "scrolled": false
   },
   "outputs": [
    {
     "data": {
      "image/png": "[encoded data removed]",
      "text/plain": [
       "<Figure size 432x288 with 1 Axes>"
      ]
     },
     "metadata": {
      "needs_background": "light"
     },
     "output_type": "display_data"
    }
   ],
   "source": [
    "import matplotlib.pyplot as plt\n",
    "fig, ax = plt.subplots()\n",
    "\n",
    "import numpy as np\n",
    "\n",
    "k_values = np.array([1, 2, 3, 4, 5, 6, 7])\n",
    "test_acc = np.array([0.66, 0.66, 0.66, 0.66, 0.0, 0.0, 0.0])\n",
    "train_acc = np.array([1.0, 1.0, 1.0, 1.0, 0.71, 0.71, 0.71])\n",
    "\n",
    "ax.scatter(k_values, test_acc, c = 'r', label = 'Test')\n",
    "ax.scatter(k_values, train_acc, c = 'b', label = 'Train')\n",
    "\n",
    "plt.xlabel('K Values')\n",
    "plt.ylabel('Model Accuracy')\n",
    "plt.legend()\n",
    "plt.show()\n",
    "\n",
    "#The difference between this plot and the last one is that here, \"x\" is preprocessed with standard scaler\n",
    "#instead of min max scaler"
   ]
  },
  {
   "cell_type": "code",
   "execution_count": 367,
   "id": "6c7cee25",
   "metadata": {},
   "outputs": [
    {
     "data": {
      "text/plain": [
       "(array([0, 0, 0]), array([0, 1, 1]))"
      ]
     },
     "execution_count": 367,
     "metadata": {},
     "output_type": "execute_result"
    }
   ],
   "source": [
    "#Here chosen K = 1 and chosen scaler = MinMax, USE CHOSEN VALUES FROM 3a\n",
    "\n",
    "from sklearn.neighbors import KNeighborsClassifier\n",
    "knn = KNeighborsClassifier(n_neighbors = 1) #k = 1\n",
    "knn = knn.fit(x_train,y_train)\n",
    "knn\n",
    "\n",
    "x_test = nl.transform(dfx_test.to_numpy()) #scaler.transform = MinMax scaler (nl)\n",
    "\n",
    "\n",
    "from sklearn.metrics import confusion_matrix\n",
    "\n",
    "y_pred = knn.predict(x_test)\n",
    "\n",
    "y_pred, y_test"
   ]
  },
  {
   "cell_type": "code",
   "execution_count": 368,
   "id": "6fb2c272",
   "metadata": {},
   "outputs": [
    {
     "data": {
      "text/plain": [
       "array([[1, 2],\n",
       "       [0, 0]])"
      ]
     },
     "execution_count": 368,
     "metadata": {},
     "output_type": "execute_result"
    }
   ],
   "source": [
    "cm = confusion_matrix(y_pred, y_test)\n",
    "cm"
   ]
  },
  {
   "cell_type": "code",
   "execution_count": 369,
   "id": "33ef981d",
   "metadata": {},
   "outputs": [
    {
     "data": {
      "text/plain": [
       "array([[0.35714286, 0.02788845]])"
      ]
     },
     "execution_count": 369,
     "metadata": {},
     "output_type": "execute_result"
    }
   ],
   "source": [
    "new_example_rawdata = np.array([[140, 3.6]])\n",
    "\n",
    "#[enrol, gpa] which corresponds to [130, 3.5] above\n",
    "\n",
    "x_new = nl.transform(new_example_rawdata)\n",
    "x_new"
   ]
  },
  {
   "cell_type": "code",
   "execution_count": 370,
   "id": "e2054517",
   "metadata": {},
   "outputs": [
    {
     "data": {
      "text/plain": [
       "array([0])"
      ]
     },
     "execution_count": 370,
     "metadata": {},
     "output_type": "execute_result"
    }
   ],
   "source": [
    "knn.predict(x_new)"
   ]
  },
  {
   "cell_type": "code",
   "execution_count": 371,
   "id": "39f059ed",
   "metadata": {},
   "outputs": [
    {
     "data": {
      "text/plain": [
       "array(['F'], dtype=object)"
      ]
     },
     "execution_count": 371,
     "metadata": {},
     "output_type": "execute_result"
    }
   ],
   "source": [
    "le.inverse_transform(knn.predict(x_new))"
   ]
  }
 ],
 "metadata": {
  "kernelspec": {
   "display_name": "Python 3 (ipykernel)",
   "language": "python",
   "name": "python3"
  },
  "language_info": {
   "codemirror_mode": {
    "name": "ipython",
    "version": 3
   },
   "file_extension": ".py",
   "mimetype": "text/x-python",
   "name": "python",
   "nbconvert_exporter": "python",
   "pygments_lexer": "ipython3",
   "version": "3.9.12"
  }
 },
 "nbformat": 4,
 "nbformat_minor": 5
}
